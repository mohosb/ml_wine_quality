{
 "cells": [
  {
   "cell_type": "markdown",
   "source": [
    "# Wine quality"
   ],
   "metadata": {
    "collapsed": false
   }
  },
  {
   "cell_type": "markdown",
   "source": [
    "## About the data"
   ],
   "metadata": {
    "collapsed": false
   }
  },
  {
   "cell_type": "markdown",
   "source": [
    "The data can be found either in the UCI Machine Learning Repository under the name of \"Wine Quality\" (link: https://archive.ics.uci.edu/ml/datasets/Wine+Quality), or using the official information below:\n",
    "\n",
    "P. Cortez, A. Cerdeira, F. Almeida, T. Matos and J. Reis.\n",
    "  Modeling wine preferences by data mining from physicochemical properties.\n",
    "  In Decision Support Systems, Elsevier, 47(4):547-553. ISSN: 0167-9236.\n",
    "\n",
    "  Available at: [@Elsevier] http://dx.doi.org/10.1016/j.dss.2009.05.016\n",
    "                [Pre-press (pdf)] http://www3.dsi.uminho.pt/pcortez/winequality09.pdf\n",
    "                [bib] http://www3.dsi.uminho.pt/pcortez/dss09.bib"
   ],
   "metadata": {
    "collapsed": false
   }
  },
  {
   "cell_type": "markdown",
   "source": [
    "The task is to predict the quality of wines using a variety of measurements taken form the wines."
   ],
   "metadata": {
    "collapsed": false
   }
  },
  {
   "cell_type": "markdown",
   "source": [
    "## Imports"
   ],
   "metadata": {
    "collapsed": false
   }
  },
  {
   "cell_type": "code",
   "execution_count": 81,
   "outputs": [],
   "source": [
    "import sklearn\n",
    "import pandas as pd\n",
    "import numpy as np\n",
    "from matplotlib import pyplot as plt\n",
    "from itertools import combinations\n",
    "from sklearn.metrics import accuracy_score\n",
    "from sklearn.model_selection import GridSearchCV\n",
    "from sklearn.model_selection import train_test_split\n",
    "from sklearn.pipeline import make_pipeline\n",
    "from sklearn.preprocessing import StandardScaler\n",
    "from sklearn.neighbors import KNeighborsClassifier\n",
    "from sklearn.ensemble import RandomForestClassifier\n",
    "from sklearn.svm import LinearSVC"
   ],
   "metadata": {
    "collapsed": false
   }
  },
  {
   "cell_type": "markdown",
   "source": [
    "## Exploratory Data Analysis\n",
    "\n",
    "This data set contains two CSV files, one for white and one for red wines, but I will only use the white wine table since it contains more data."
   ],
   "metadata": {
    "collapsed": false
   }
  },
  {
   "cell_type": "code",
   "execution_count": 56,
   "outputs": [
    {
     "data": {
      "text/plain": "   fixed acidity  volatile acidity  citric acid  residual sugar  chlorides  \\\n0            7.0              0.27         0.36            20.7      0.045   \n1            6.3              0.30         0.34             1.6      0.049   \n2            8.1              0.28         0.40             6.9      0.050   \n3            7.2              0.23         0.32             8.5      0.058   \n4            7.2              0.23         0.32             8.5      0.058   \n\n   free sulfur dioxide  total sulfur dioxide  density    pH  sulphates  \\\n0                 45.0                 170.0   1.0010  3.00       0.45   \n1                 14.0                 132.0   0.9940  3.30       0.49   \n2                 30.0                  97.0   0.9951  3.26       0.44   \n3                 47.0                 186.0   0.9956  3.19       0.40   \n4                 47.0                 186.0   0.9956  3.19       0.40   \n\n   alcohol  quality  \n0      8.8        6  \n1      9.5        6  \n2     10.1        6  \n3      9.9        6  \n4      9.9        6  ",
      "text/html": "<div>\n<style scoped>\n    .dataframe tbody tr th:only-of-type {\n        vertical-align: middle;\n    }\n\n    .dataframe tbody tr th {\n        vertical-align: top;\n    }\n\n    .dataframe thead th {\n        text-align: right;\n    }\n</style>\n<table border=\"1\" class=\"dataframe\">\n  <thead>\n    <tr style=\"text-align: right;\">\n      <th></th>\n      <th>fixed acidity</th>\n      <th>volatile acidity</th>\n      <th>citric acid</th>\n      <th>residual sugar</th>\n      <th>chlorides</th>\n      <th>free sulfur dioxide</th>\n      <th>total sulfur dioxide</th>\n      <th>density</th>\n      <th>pH</th>\n      <th>sulphates</th>\n      <th>alcohol</th>\n      <th>quality</th>\n    </tr>\n  </thead>\n  <tbody>\n    <tr>\n      <th>0</th>\n      <td>7.0</td>\n      <td>0.27</td>\n      <td>0.36</td>\n      <td>20.7</td>\n      <td>0.045</td>\n      <td>45.0</td>\n      <td>170.0</td>\n      <td>1.0010</td>\n      <td>3.00</td>\n      <td>0.45</td>\n      <td>8.8</td>\n      <td>6</td>\n    </tr>\n    <tr>\n      <th>1</th>\n      <td>6.3</td>\n      <td>0.30</td>\n      <td>0.34</td>\n      <td>1.6</td>\n      <td>0.049</td>\n      <td>14.0</td>\n      <td>132.0</td>\n      <td>0.9940</td>\n      <td>3.30</td>\n      <td>0.49</td>\n      <td>9.5</td>\n      <td>6</td>\n    </tr>\n    <tr>\n      <th>2</th>\n      <td>8.1</td>\n      <td>0.28</td>\n      <td>0.40</td>\n      <td>6.9</td>\n      <td>0.050</td>\n      <td>30.0</td>\n      <td>97.0</td>\n      <td>0.9951</td>\n      <td>3.26</td>\n      <td>0.44</td>\n      <td>10.1</td>\n      <td>6</td>\n    </tr>\n    <tr>\n      <th>3</th>\n      <td>7.2</td>\n      <td>0.23</td>\n      <td>0.32</td>\n      <td>8.5</td>\n      <td>0.058</td>\n      <td>47.0</td>\n      <td>186.0</td>\n      <td>0.9956</td>\n      <td>3.19</td>\n      <td>0.40</td>\n      <td>9.9</td>\n      <td>6</td>\n    </tr>\n    <tr>\n      <th>4</th>\n      <td>7.2</td>\n      <td>0.23</td>\n      <td>0.32</td>\n      <td>8.5</td>\n      <td>0.058</td>\n      <td>47.0</td>\n      <td>186.0</td>\n      <td>0.9956</td>\n      <td>3.19</td>\n      <td>0.40</td>\n      <td>9.9</td>\n      <td>6</td>\n    </tr>\n  </tbody>\n</table>\n</div>"
     },
     "execution_count": 56,
     "metadata": {},
     "output_type": "execute_result"
    }
   ],
   "source": [
    "wines = pd.read_csv('winequality-white.csv', sep=';')\n",
    "wines.head()"
   ],
   "metadata": {
    "collapsed": false
   }
  },
  {
   "cell_type": "code",
   "execution_count": 57,
   "outputs": [
    {
     "name": "stdout",
     "output_type": "stream",
     "text": [
      "3 9\n"
     ]
    }
   ],
   "source": [
    "print(wines['quality'].min(), wines['quality'].max())"
   ],
   "metadata": {
    "collapsed": false
   }
  },
  {
   "cell_type": "markdown",
   "source": [
    "We can see that in the table, all columns contain only real valued data except for \"quality\", which is I presume a rating on the scale of 10, although in the dataset the lowest rating is 3 and the highest is 9. These are the values that are to be predicted. For a model that predicts ratings, a regression approach may be appealing, but since all the ratings are strictly integer and clearly ment to be on a scale of 10, I will use a multi-class classification approach with 10 classes. Even if the data does not contain values below 3 or higher than 9, this does not mean that the model in a real world use case could not receive data that is a wine of quality 1 or 10."
   ],
   "metadata": {
    "collapsed": false
   }
  },
  {
   "cell_type": "code",
   "execution_count": 58,
   "outputs": [
    {
     "name": "stdout",
     "output_type": "stream",
     "text": [
      "white wine: [   0    0   20  163 1457 2198  880  175    5    0]\n"
     ]
    }
   ],
   "source": [
    "print('white wine:', np.histogram(wines['quality'], range(1, 12))[0])"
   ],
   "metadata": {
    "collapsed": false
   }
  },
  {
   "cell_type": "markdown",
   "source": [
    "We can see that the amount of data points corresponding to the different labels are heavily unbalanced. This could raise some problems for example the classifiers may become heavily biased towards the middle ratings."
   ],
   "metadata": {
    "collapsed": false
   }
  },
  {
   "cell_type": "markdown",
   "source": [
    "Let us look at the correlation matrix of the table to get a sense of the data and what features to use later in the model."
   ],
   "metadata": {
    "collapsed": false
   }
  },
  {
   "cell_type": "code",
   "execution_count": 59,
   "outputs": [
    {
     "data": {
      "text/plain": "<pandas.io.formats.style.Styler at 0x158525a20>",
      "text/html": "<style type=\"text/css\">\n#T_e368f_row0_col0, #T_e368f_row1_col1, #T_e368f_row2_col2, #T_e368f_row3_col3, #T_e368f_row4_col4, #T_e368f_row5_col5, #T_e368f_row6_col6, #T_e368f_row7_col7, #T_e368f_row8_col8, #T_e368f_row9_col9, #T_e368f_row10_col10, #T_e368f_row11_col11 {\n  background-color: #67000d;\n  color: #f1f1f1;\n}\n#T_e368f_row0_col1, #T_e368f_row0_col9, #T_e368f_row1_col7, #T_e368f_row2_col11, #T_e368f_row4_col9, #T_e368f_row5_col8, #T_e368f_row5_col11, #T_e368f_row6_col8, #T_e368f_row8_col5, #T_e368f_row8_col6, #T_e368f_row9_col0, #T_e368f_row9_col3, #T_e368f_row9_col4, #T_e368f_row9_col10, #T_e368f_row10_col9, #T_e368f_row11_col2 {\n  background-color: #fff5f0;\n  color: #000000;\n}\n#T_e368f_row0_col2 {\n  background-color: #fcb095;\n  color: #000000;\n}\n#T_e368f_row0_col3, #T_e368f_row4_col3 {\n  background-color: #feeae1;\n  color: #000000;\n}\n#T_e368f_row0_col4, #T_e368f_row1_col0, #T_e368f_row4_col0, #T_e368f_row7_col1, #T_e368f_row11_col5 {\n  background-color: #fff4ef;\n  color: #000000;\n}\n#T_e368f_row0_col5, #T_e368f_row4_col1, #T_e368f_row9_col7 {\n  background-color: #ffede5;\n  color: #000000;\n}\n#T_e368f_row0_col6, #T_e368f_row1_col6, #T_e368f_row5_col4 {\n  background-color: #fee7db;\n  color: #000000;\n}\n#T_e368f_row0_col7, #T_e368f_row7_col4 {\n  background-color: #fcbda4;\n  color: #000000;\n}\n#T_e368f_row0_col8, #T_e368f_row11_col10 {\n  background-color: #fc8262;\n  color: #f1f1f1;\n}\n#T_e368f_row0_col10 {\n  background-color: #fee4d8;\n  color: #000000;\n}\n#T_e368f_row0_col11, #T_e368f_row4_col2, #T_e368f_row8_col10, #T_e368f_row10_col0 {\n  background-color: #fee3d7;\n  color: #000000;\n}\n#T_e368f_row1_col2, #T_e368f_row7_col2, #T_e368f_row8_col9 {\n  background-color: #fedbcc;\n  color: #000000;\n}\n#T_e368f_row1_col3, #T_e368f_row11_col9 {\n  background-color: #ffefe8;\n  color: #000000;\n}\n#T_e368f_row1_col4, #T_e368f_row1_col10, #T_e368f_row9_col2 {\n  background-color: #ffece4;\n  color: #000000;\n}\n#T_e368f_row1_col5 {\n  background-color: #fee5d9;\n  color: #000000;\n}\n#T_e368f_row1_col8, #T_e368f_row5_col0 {\n  background-color: #fff0e8;\n  color: #000000;\n}\n#T_e368f_row1_col9 {\n  background-color: #fff2ec;\n  color: #000000;\n}\n#T_e368f_row1_col11 {\n  background-color: #fdcdb9;\n  color: #000000;\n}\n#T_e368f_row2_col0, #T_e368f_row5_col7 {\n  background-color: #fcb398;\n  color: #000000;\n}\n#T_e368f_row2_col1, #T_e368f_row9_col6 {\n  background-color: #fedfd0;\n  color: #000000;\n}\n#T_e368f_row2_col3, #T_e368f_row6_col1, #T_e368f_row8_col7, #T_e368f_row10_col2 {\n  background-color: #feeae0;\n  color: #000000;\n}\n#T_e368f_row2_col4, #T_e368f_row4_col5, #T_e368f_row11_col0, #T_e368f_row11_col8 {\n  background-color: #fee5d8;\n  color: #000000;\n}\n#T_e368f_row2_col5, #T_e368f_row3_col11, #T_e368f_row4_col8, #T_e368f_row7_col8, #T_e368f_row8_col11 {\n  background-color: #fee6da;\n  color: #000000;\n}\n#T_e368f_row2_col6, #T_e368f_row6_col9, #T_e368f_row10_col8 {\n  background-color: #fee1d4;\n  color: #000000;\n}\n#T_e368f_row2_col7 {\n  background-color: #fee0d2;\n  color: #000000;\n}\n#T_e368f_row2_col8 {\n  background-color: #fdd5c4;\n  color: #000000;\n}\n#T_e368f_row2_col9, #T_e368f_row5_col9, #T_e368f_row9_col11, #T_e368f_row10_col1 {\n  background-color: #ffeee6;\n  color: #000000;\n}\n#T_e368f_row2_col10, #T_e368f_row7_col9, #T_e368f_row9_col5 {\n  background-color: #ffebe2;\n  color: #000000;\n}\n#T_e368f_row3_col0, #T_e368f_row3_col4, #T_e368f_row11_col3 {\n  background-color: #fee9df;\n  color: #000000;\n}\n#T_e368f_row3_col1 {\n  background-color: #ffeee7;\n  color: #000000;\n}\n#T_e368f_row3_col2, #T_e368f_row5_col2 {\n  background-color: #fee7dc;\n  color: #000000;\n}\n#T_e368f_row3_col5 {\n  background-color: #fcab8f;\n  color: #000000;\n}\n#T_e368f_row3_col6 {\n  background-color: #fc8a6a;\n  color: #f1f1f1;\n}\n#T_e368f_row3_col7, #T_e368f_row7_col3 {\n  background-color: #b11218;\n  color: #f1f1f1;\n}\n#T_e368f_row3_col8 {\n  background-color: #fdccb8;\n  color: #000000;\n}\n#T_e368f_row3_col9, #T_e368f_row8_col1 {\n  background-color: #fff4ee;\n  color: #000000;\n}\n#T_e368f_row3_col10, #T_e368f_row6_col10 {\n  background-color: #fb7d5d;\n  color: #f1f1f1;\n}\n#T_e368f_row4_col6, #T_e368f_row11_col4 {\n  background-color: #fdcbb6;\n  color: #000000;\n}\n#T_e368f_row4_col7, #T_e368f_row5_col10 {\n  background-color: #fcbfa7;\n  color: #000000;\n}\n#T_e368f_row4_col10, #T_e368f_row10_col4 {\n  background-color: #fc9b7c;\n  color: #000000;\n}\n#T_e368f_row4_col11 {\n  background-color: #fdc9b3;\n  color: #000000;\n}\n#T_e368f_row5_col1, #T_e368f_row6_col0, #T_e368f_row8_col4 {\n  background-color: #fee8de;\n  color: #000000;\n}\n#T_e368f_row5_col3 {\n  background-color: #fcb296;\n  color: #000000;\n}\n#T_e368f_row5_col6, #T_e368f_row6_col5 {\n  background-color: #f03f2e;\n  color: #f1f1f1;\n}\n#T_e368f_row6_col2 {\n  background-color: #fee3d6;\n  color: #000000;\n}\n#T_e368f_row6_col3 {\n  background-color: #fc8f6f;\n  color: #000000;\n}\n#T_e368f_row6_col4 {\n  background-color: #fdcebb;\n  color: #000000;\n}\n#T_e368f_row6_col7 {\n  background-color: #f96346;\n  color: #f1f1f1;\n}\n#T_e368f_row6_col11 {\n  background-color: #fdd4c2;\n  color: #000000;\n}\n#T_e368f_row7_col0 {\n  background-color: #fcbba1;\n  color: #000000;\n}\n#T_e368f_row7_col5 {\n  background-color: #fcad90;\n  color: #000000;\n}\n#T_e368f_row7_col6 {\n  background-color: #f85f43;\n  color: #f1f1f1;\n}\n#T_e368f_row7_col10, #T_e368f_row10_col7 {\n  background-color: #c3161b;\n  color: #f1f1f1;\n}\n#T_e368f_row7_col11 {\n  background-color: #fcaa8d;\n  color: #000000;\n}\n#T_e368f_row8_col0 {\n  background-color: #fc8565;\n  color: #f1f1f1;\n}\n#T_e368f_row8_col2, #T_e368f_row9_col8 {\n  background-color: #fed8c7;\n  color: #000000;\n}\n#T_e368f_row8_col3, #T_e368f_row11_col6 {\n  background-color: #fdd2bf;\n  color: #000000;\n}\n#T_e368f_row9_col1 {\n  background-color: #fff3ed;\n  color: #000000;\n}\n#T_e368f_row10_col3 {\n  background-color: #fc7f5f;\n  color: #f1f1f1;\n}\n#T_e368f_row10_col5 {\n  background-color: #fcbca2;\n  color: #000000;\n}\n#T_e368f_row10_col6 {\n  background-color: #fb7b5b;\n  color: #f1f1f1;\n}\n#T_e368f_row10_col11 {\n  background-color: #fc8060;\n  color: #f1f1f1;\n}\n#T_e368f_row11_col1 {\n  background-color: #fdd1be;\n  color: #000000;\n}\n#T_e368f_row11_col7 {\n  background-color: #fcaf93;\n  color: #000000;\n}\n</style>\n<table id=\"T_e368f\">\n  <thead>\n    <tr>\n      <th class=\"blank level0\" >&nbsp;</th>\n      <th id=\"T_e368f_level0_col0\" class=\"col_heading level0 col0\" >fixed acidity</th>\n      <th id=\"T_e368f_level0_col1\" class=\"col_heading level0 col1\" >volatile acidity</th>\n      <th id=\"T_e368f_level0_col2\" class=\"col_heading level0 col2\" >citric acid</th>\n      <th id=\"T_e368f_level0_col3\" class=\"col_heading level0 col3\" >residual sugar</th>\n      <th id=\"T_e368f_level0_col4\" class=\"col_heading level0 col4\" >chlorides</th>\n      <th id=\"T_e368f_level0_col5\" class=\"col_heading level0 col5\" >free sulfur dioxide</th>\n      <th id=\"T_e368f_level0_col6\" class=\"col_heading level0 col6\" >total sulfur dioxide</th>\n      <th id=\"T_e368f_level0_col7\" class=\"col_heading level0 col7\" >density</th>\n      <th id=\"T_e368f_level0_col8\" class=\"col_heading level0 col8\" >pH</th>\n      <th id=\"T_e368f_level0_col9\" class=\"col_heading level0 col9\" >sulphates</th>\n      <th id=\"T_e368f_level0_col10\" class=\"col_heading level0 col10\" >alcohol</th>\n      <th id=\"T_e368f_level0_col11\" class=\"col_heading level0 col11\" >quality</th>\n    </tr>\n  </thead>\n  <tbody>\n    <tr>\n      <th id=\"T_e368f_level0_row0\" class=\"row_heading level0 row0\" >fixed acidity</th>\n      <td id=\"T_e368f_row0_col0\" class=\"data row0 col0\" >1.00</td>\n      <td id=\"T_e368f_row0_col1\" class=\"data row0 col1\" >0.02</td>\n      <td id=\"T_e368f_row0_col2\" class=\"data row0 col2\" >0.29</td>\n      <td id=\"T_e368f_row0_col3\" class=\"data row0 col3\" >0.09</td>\n      <td id=\"T_e368f_row0_col4\" class=\"data row0 col4\" >0.02</td>\n      <td id=\"T_e368f_row0_col5\" class=\"data row0 col5\" >0.05</td>\n      <td id=\"T_e368f_row0_col6\" class=\"data row0 col6\" >0.09</td>\n      <td id=\"T_e368f_row0_col7\" class=\"data row0 col7\" >0.27</td>\n      <td id=\"T_e368f_row0_col8\" class=\"data row0 col8\" >0.43</td>\n      <td id=\"T_e368f_row0_col9\" class=\"data row0 col9\" >0.02</td>\n      <td id=\"T_e368f_row0_col10\" class=\"data row0 col10\" >0.12</td>\n      <td id=\"T_e368f_row0_col11\" class=\"data row0 col11\" >0.11</td>\n    </tr>\n    <tr>\n      <th id=\"T_e368f_level0_row1\" class=\"row_heading level0 row1\" >volatile acidity</th>\n      <td id=\"T_e368f_row1_col0\" class=\"data row1 col0\" >0.02</td>\n      <td id=\"T_e368f_row1_col1\" class=\"data row1 col1\" >1.00</td>\n      <td id=\"T_e368f_row1_col2\" class=\"data row1 col2\" >0.15</td>\n      <td id=\"T_e368f_row1_col3\" class=\"data row1 col3\" >0.06</td>\n      <td id=\"T_e368f_row1_col4\" class=\"data row1 col4\" >0.07</td>\n      <td id=\"T_e368f_row1_col5\" class=\"data row1 col5\" >0.10</td>\n      <td id=\"T_e368f_row1_col6\" class=\"data row1 col6\" >0.09</td>\n      <td id=\"T_e368f_row1_col7\" class=\"data row1 col7\" >0.03</td>\n      <td id=\"T_e368f_row1_col8\" class=\"data row1 col8\" >0.03</td>\n      <td id=\"T_e368f_row1_col9\" class=\"data row1 col9\" >0.04</td>\n      <td id=\"T_e368f_row1_col10\" class=\"data row1 col10\" >0.07</td>\n      <td id=\"T_e368f_row1_col11\" class=\"data row1 col11\" >0.19</td>\n    </tr>\n    <tr>\n      <th id=\"T_e368f_level0_row2\" class=\"row_heading level0 row2\" >citric acid</th>\n      <td id=\"T_e368f_row2_col0\" class=\"data row2 col0\" >0.29</td>\n      <td id=\"T_e368f_row2_col1\" class=\"data row2 col1\" >0.15</td>\n      <td id=\"T_e368f_row2_col2\" class=\"data row2 col2\" >1.00</td>\n      <td id=\"T_e368f_row2_col3\" class=\"data row2 col3\" >0.09</td>\n      <td id=\"T_e368f_row2_col4\" class=\"data row2 col4\" >0.11</td>\n      <td id=\"T_e368f_row2_col5\" class=\"data row2 col5\" >0.09</td>\n      <td id=\"T_e368f_row2_col6\" class=\"data row2 col6\" >0.12</td>\n      <td id=\"T_e368f_row2_col7\" class=\"data row2 col7\" >0.15</td>\n      <td id=\"T_e368f_row2_col8\" class=\"data row2 col8\" >0.16</td>\n      <td id=\"T_e368f_row2_col9\" class=\"data row2 col9\" >0.06</td>\n      <td id=\"T_e368f_row2_col10\" class=\"data row2 col10\" >0.08</td>\n      <td id=\"T_e368f_row2_col11\" class=\"data row2 col11\" >0.01</td>\n    </tr>\n    <tr>\n      <th id=\"T_e368f_level0_row3\" class=\"row_heading level0 row3\" >residual sugar</th>\n      <td id=\"T_e368f_row3_col0\" class=\"data row3 col0\" >0.09</td>\n      <td id=\"T_e368f_row3_col1\" class=\"data row3 col1\" >0.06</td>\n      <td id=\"T_e368f_row3_col2\" class=\"data row3 col2\" >0.09</td>\n      <td id=\"T_e368f_row3_col3\" class=\"data row3 col3\" >1.00</td>\n      <td id=\"T_e368f_row3_col4\" class=\"data row3 col4\" >0.09</td>\n      <td id=\"T_e368f_row3_col5\" class=\"data row3 col5\" >0.30</td>\n      <td id=\"T_e368f_row3_col6\" class=\"data row3 col6\" >0.40</td>\n      <td id=\"T_e368f_row3_col7\" class=\"data row3 col7\" >0.84</td>\n      <td id=\"T_e368f_row3_col8\" class=\"data row3 col8\" >0.19</td>\n      <td id=\"T_e368f_row3_col9\" class=\"data row3 col9\" >0.03</td>\n      <td id=\"T_e368f_row3_col10\" class=\"data row3 col10\" >0.45</td>\n      <td id=\"T_e368f_row3_col11\" class=\"data row3 col11\" >0.10</td>\n    </tr>\n    <tr>\n      <th id=\"T_e368f_level0_row4\" class=\"row_heading level0 row4\" >chlorides</th>\n      <td id=\"T_e368f_row4_col0\" class=\"data row4 col0\" >0.02</td>\n      <td id=\"T_e368f_row4_col1\" class=\"data row4 col1\" >0.07</td>\n      <td id=\"T_e368f_row4_col2\" class=\"data row4 col2\" >0.11</td>\n      <td id=\"T_e368f_row4_col3\" class=\"data row4 col3\" >0.09</td>\n      <td id=\"T_e368f_row4_col4\" class=\"data row4 col4\" >1.00</td>\n      <td id=\"T_e368f_row4_col5\" class=\"data row4 col5\" >0.10</td>\n      <td id=\"T_e368f_row4_col6\" class=\"data row4 col6\" >0.20</td>\n      <td id=\"T_e368f_row4_col7\" class=\"data row4 col7\" >0.26</td>\n      <td id=\"T_e368f_row4_col8\" class=\"data row4 col8\" >0.09</td>\n      <td id=\"T_e368f_row4_col9\" class=\"data row4 col9\" >0.02</td>\n      <td id=\"T_e368f_row4_col10\" class=\"data row4 col10\" >0.36</td>\n      <td id=\"T_e368f_row4_col11\" class=\"data row4 col11\" >0.21</td>\n    </tr>\n    <tr>\n      <th id=\"T_e368f_level0_row5\" class=\"row_heading level0 row5\" >free sulfur dioxide</th>\n      <td id=\"T_e368f_row5_col0\" class=\"data row5 col0\" >0.05</td>\n      <td id=\"T_e368f_row5_col1\" class=\"data row5 col1\" >0.10</td>\n      <td id=\"T_e368f_row5_col2\" class=\"data row5 col2\" >0.09</td>\n      <td id=\"T_e368f_row5_col3\" class=\"data row5 col3\" >0.30</td>\n      <td id=\"T_e368f_row5_col4\" class=\"data row5 col4\" >0.10</td>\n      <td id=\"T_e368f_row5_col5\" class=\"data row5 col5\" >1.00</td>\n      <td id=\"T_e368f_row5_col6\" class=\"data row5 col6\" >0.62</td>\n      <td id=\"T_e368f_row5_col7\" class=\"data row5 col7\" >0.29</td>\n      <td id=\"T_e368f_row5_col8\" class=\"data row5 col8\" >0.00</td>\n      <td id=\"T_e368f_row5_col9\" class=\"data row5 col9\" >0.06</td>\n      <td id=\"T_e368f_row5_col10\" class=\"data row5 col10\" >0.25</td>\n      <td id=\"T_e368f_row5_col11\" class=\"data row5 col11\" >0.01</td>\n    </tr>\n    <tr>\n      <th id=\"T_e368f_level0_row6\" class=\"row_heading level0 row6\" >total sulfur dioxide</th>\n      <td id=\"T_e368f_row6_col0\" class=\"data row6 col0\" >0.09</td>\n      <td id=\"T_e368f_row6_col1\" class=\"data row6 col1\" >0.09</td>\n      <td id=\"T_e368f_row6_col2\" class=\"data row6 col2\" >0.12</td>\n      <td id=\"T_e368f_row6_col3\" class=\"data row6 col3\" >0.40</td>\n      <td id=\"T_e368f_row6_col4\" class=\"data row6 col4\" >0.20</td>\n      <td id=\"T_e368f_row6_col5\" class=\"data row6 col5\" >0.62</td>\n      <td id=\"T_e368f_row6_col6\" class=\"data row6 col6\" >1.00</td>\n      <td id=\"T_e368f_row6_col7\" class=\"data row6 col7\" >0.53</td>\n      <td id=\"T_e368f_row6_col8\" class=\"data row6 col8\" >0.00</td>\n      <td id=\"T_e368f_row6_col9\" class=\"data row6 col9\" >0.13</td>\n      <td id=\"T_e368f_row6_col10\" class=\"data row6 col10\" >0.45</td>\n      <td id=\"T_e368f_row6_col11\" class=\"data row6 col11\" >0.17</td>\n    </tr>\n    <tr>\n      <th id=\"T_e368f_level0_row7\" class=\"row_heading level0 row7\" >density</th>\n      <td id=\"T_e368f_row7_col0\" class=\"data row7 col0\" >0.27</td>\n      <td id=\"T_e368f_row7_col1\" class=\"data row7 col1\" >0.03</td>\n      <td id=\"T_e368f_row7_col2\" class=\"data row7 col2\" >0.15</td>\n      <td id=\"T_e368f_row7_col3\" class=\"data row7 col3\" >0.84</td>\n      <td id=\"T_e368f_row7_col4\" class=\"data row7 col4\" >0.26</td>\n      <td id=\"T_e368f_row7_col5\" class=\"data row7 col5\" >0.29</td>\n      <td id=\"T_e368f_row7_col6\" class=\"data row7 col6\" >0.53</td>\n      <td id=\"T_e368f_row7_col7\" class=\"data row7 col7\" >1.00</td>\n      <td id=\"T_e368f_row7_col8\" class=\"data row7 col8\" >0.09</td>\n      <td id=\"T_e368f_row7_col9\" class=\"data row7 col9\" >0.07</td>\n      <td id=\"T_e368f_row7_col10\" class=\"data row7 col10\" >0.78</td>\n      <td id=\"T_e368f_row7_col11\" class=\"data row7 col11\" >0.31</td>\n    </tr>\n    <tr>\n      <th id=\"T_e368f_level0_row8\" class=\"row_heading level0 row8\" >pH</th>\n      <td id=\"T_e368f_row8_col0\" class=\"data row8 col0\" >0.43</td>\n      <td id=\"T_e368f_row8_col1\" class=\"data row8 col1\" >0.03</td>\n      <td id=\"T_e368f_row8_col2\" class=\"data row8 col2\" >0.16</td>\n      <td id=\"T_e368f_row8_col3\" class=\"data row8 col3\" >0.19</td>\n      <td id=\"T_e368f_row8_col4\" class=\"data row8 col4\" >0.09</td>\n      <td id=\"T_e368f_row8_col5\" class=\"data row8 col5\" >0.00</td>\n      <td id=\"T_e368f_row8_col6\" class=\"data row8 col6\" >0.00</td>\n      <td id=\"T_e368f_row8_col7\" class=\"data row8 col7\" >0.09</td>\n      <td id=\"T_e368f_row8_col8\" class=\"data row8 col8\" >1.00</td>\n      <td id=\"T_e368f_row8_col9\" class=\"data row8 col9\" >0.16</td>\n      <td id=\"T_e368f_row8_col10\" class=\"data row8 col10\" >0.12</td>\n      <td id=\"T_e368f_row8_col11\" class=\"data row8 col11\" >0.10</td>\n    </tr>\n    <tr>\n      <th id=\"T_e368f_level0_row9\" class=\"row_heading level0 row9\" >sulphates</th>\n      <td id=\"T_e368f_row9_col0\" class=\"data row9 col0\" >0.02</td>\n      <td id=\"T_e368f_row9_col1\" class=\"data row9 col1\" >0.04</td>\n      <td id=\"T_e368f_row9_col2\" class=\"data row9 col2\" >0.06</td>\n      <td id=\"T_e368f_row9_col3\" class=\"data row9 col3\" >0.03</td>\n      <td id=\"T_e368f_row9_col4\" class=\"data row9 col4\" >0.02</td>\n      <td id=\"T_e368f_row9_col5\" class=\"data row9 col5\" >0.06</td>\n      <td id=\"T_e368f_row9_col6\" class=\"data row9 col6\" >0.13</td>\n      <td id=\"T_e368f_row9_col7\" class=\"data row9 col7\" >0.07</td>\n      <td id=\"T_e368f_row9_col8\" class=\"data row9 col8\" >0.16</td>\n      <td id=\"T_e368f_row9_col9\" class=\"data row9 col9\" >1.00</td>\n      <td id=\"T_e368f_row9_col10\" class=\"data row9 col10\" >0.02</td>\n      <td id=\"T_e368f_row9_col11\" class=\"data row9 col11\" >0.05</td>\n    </tr>\n    <tr>\n      <th id=\"T_e368f_level0_row10\" class=\"row_heading level0 row10\" >alcohol</th>\n      <td id=\"T_e368f_row10_col0\" class=\"data row10 col0\" >0.12</td>\n      <td id=\"T_e368f_row10_col1\" class=\"data row10 col1\" >0.07</td>\n      <td id=\"T_e368f_row10_col2\" class=\"data row10 col2\" >0.08</td>\n      <td id=\"T_e368f_row10_col3\" class=\"data row10 col3\" >0.45</td>\n      <td id=\"T_e368f_row10_col4\" class=\"data row10 col4\" >0.36</td>\n      <td id=\"T_e368f_row10_col5\" class=\"data row10 col5\" >0.25</td>\n      <td id=\"T_e368f_row10_col6\" class=\"data row10 col6\" >0.45</td>\n      <td id=\"T_e368f_row10_col7\" class=\"data row10 col7\" >0.78</td>\n      <td id=\"T_e368f_row10_col8\" class=\"data row10 col8\" >0.12</td>\n      <td id=\"T_e368f_row10_col9\" class=\"data row10 col9\" >0.02</td>\n      <td id=\"T_e368f_row10_col10\" class=\"data row10 col10\" >1.00</td>\n      <td id=\"T_e368f_row10_col11\" class=\"data row10 col11\" >0.44</td>\n    </tr>\n    <tr>\n      <th id=\"T_e368f_level0_row11\" class=\"row_heading level0 row11\" >quality</th>\n      <td id=\"T_e368f_row11_col0\" class=\"data row11 col0\" >0.11</td>\n      <td id=\"T_e368f_row11_col1\" class=\"data row11 col1\" >0.19</td>\n      <td id=\"T_e368f_row11_col2\" class=\"data row11 col2\" >0.01</td>\n      <td id=\"T_e368f_row11_col3\" class=\"data row11 col3\" >0.10</td>\n      <td id=\"T_e368f_row11_col4\" class=\"data row11 col4\" >0.21</td>\n      <td id=\"T_e368f_row11_col5\" class=\"data row11 col5\" >0.01</td>\n      <td id=\"T_e368f_row11_col6\" class=\"data row11 col6\" >0.17</td>\n      <td id=\"T_e368f_row11_col7\" class=\"data row11 col7\" >0.31</td>\n      <td id=\"T_e368f_row11_col8\" class=\"data row11 col8\" >0.10</td>\n      <td id=\"T_e368f_row11_col9\" class=\"data row11 col9\" >0.05</td>\n      <td id=\"T_e368f_row11_col10\" class=\"data row11 col10\" >0.44</td>\n      <td id=\"T_e368f_row11_col11\" class=\"data row11 col11\" >1.00</td>\n    </tr>\n  </tbody>\n</table>\n"
     },
     "execution_count": 59,
     "metadata": {},
     "output_type": "execute_result"
    }
   ],
   "source": [
    "wines.corr().abs().style.background_gradient(cmap='Reds').format(precision=2)"
   ],
   "metadata": {
    "collapsed": false
   }
  },
  {
   "cell_type": "markdown",
   "source": [
    "It seems that the features with the highest absolute correlation, which can be useful for the white wine quality predictions are: alcohol, density, chlorides, total sulfur dioxide and volatile acidity. Since the alcohol correlates with density, total sulfur dioxide and chlorides, they may not contribute too much to a good predictor so it may be clever to only use these if we want to really finetune the classifier."
   ],
   "metadata": {
    "collapsed": false
   }
  },
  {
   "cell_type": "markdown",
   "source": [
    "## Building classifiers"
   ],
   "metadata": {
    "collapsed": false
   }
  },
  {
   "cell_type": "markdown",
   "source": [
    "First, make a train-test split for both tables to use later when evaluating the classifiers."
   ],
   "metadata": {
    "collapsed": false
   }
  },
  {
   "cell_type": "code",
   "execution_count": 61,
   "outputs": [
    {
     "name": "stdout",
     "output_type": "stream",
     "text": [
      "(4408, 4) (490, 4) (4408,) (490,)\n"
     ]
    }
   ],
   "source": [
    "x_train, x_test, y_train, y_test = train_test_split(\n",
    "    wines.drop(columns='quality', inplace=False)[['alcohol', 'volatile acidity', 'fixed acidity', 'chlorides']].values,\n",
    "    wines['quality'].values,\n",
    "    test_size=0.1, random_state=42\n",
    ")\n",
    "print(x_train.shape, x_test.shape, y_train.shape, y_test.shape)"
   ],
   "metadata": {
    "collapsed": false
   }
  },
  {
   "cell_type": "markdown",
   "source": [
    "It may be useful to make a really basic and simple model to use as a baseline. In this case we will make a classifier that just makes a weighted guess and see how well it performs."
   ],
   "metadata": {
    "collapsed": false
   }
  },
  {
   "cell_type": "code",
   "execution_count": 68,
   "outputs": [
    {
     "name": "stdout",
     "output_type": "stream",
     "text": [
      "0.1898820326678766\n",
      "0.19795918367346937\n"
     ]
    }
   ],
   "source": [
    "def guess(x, seed=None):\n",
    "    if seed is not None:\n",
    "        np.random.seed(seed)\n",
    "    distribution = np.histogram(x_train, range(1, 12))[0]\n",
    "    return np.random.choice(np.arange(1, 11), x.shape[0], True, distribution / distribution.sum())\n",
    "\n",
    "print(accuracy_score(y_train, guess(x_train, seed=42)))\n",
    "print(accuracy_score(y_test, guess(x_test, seed=42)))"
   ],
   "metadata": {
    "collapsed": false
   }
  },
  {
   "cell_type": "markdown",
   "source": [
    "Now, we will experiment a bit with some basic classifiers to get a feel for the difficulty of the problem. Let us try a basic KNN, Random Forest and SVM approach."
   ],
   "metadata": {
    "collapsed": false
   }
  },
  {
   "cell_type": "code",
   "execution_count": 64,
   "outputs": [
    {
     "name": "stdout",
     "output_type": "stream",
     "text": [
      "0.7484119782214156\n",
      "0.5510204081632653\n"
     ]
    }
   ],
   "source": [
    "knn = KNeighborsClassifier(3).fit(x_train, y_train)\n",
    "print(accuracy_score(y_train, knn.predict(x_train)))\n",
    "print(accuracy_score(y_test, knn.predict(x_test)))"
   ],
   "metadata": {
    "collapsed": false
   }
  },
  {
   "cell_type": "code",
   "execution_count": 67,
   "outputs": [
    {
     "name": "stdout",
     "output_type": "stream",
     "text": [
      "0.9984119782214156\n",
      "0.6408163265306123\n"
     ]
    }
   ],
   "source": [
    "rf = RandomForestClassifier(200).fit(x_train, y_train)\n",
    "print(accuracy_score(y_train, rf.predict(x_train)))\n",
    "print(accuracy_score(y_test, rf.predict(x_test)))"
   ],
   "metadata": {
    "collapsed": false
   }
  },
  {
   "cell_type": "code",
   "execution_count": 79,
   "outputs": [
    {
     "name": "stdout",
     "output_type": "stream",
     "text": [
      "0.4330762250453721\n",
      "0.42244897959183675\n"
     ]
    }
   ],
   "source": [
    "svm = make_pipeline(StandardScaler(), LinearSVC(dual=False, C=1.0, class_weight='balanced', random_state=42)).fit(x_train, y_train)\n",
    "print(accuracy_score(y_train, svm.predict(x_train)))\n",
    "print(accuracy_score(y_test, svm.predict(x_test)))"
   ],
   "metadata": {
    "collapsed": false
   }
  },
  {
   "cell_type": "markdown",
   "source": [
    "It looks like the random forest could be a good choice if we can reduce the overfitting and make it generalize a bit better. To achieve this, we will use a grid search with cross validation to find the best hyperparameters. Since we are using a random forest and it selects random features to use for each decision tree, it can be beneficial to use some of the other features as well, to combat overfitting and only drop the ones with a really small absolute correlation with quality."
   ],
   "metadata": {
    "collapsed": false
   }
  },
  {
   "cell_type": "code",
   "execution_count": 108,
   "outputs": [],
   "source": [
    "x_train2, x_test2, y_train2, y_test2 = train_test_split(\n",
    "    wines.drop(columns=['quality', 'citric acid', 'free sulfur dioxide', 'sulphates'], inplace=False).values,\n",
    "    wines['quality'].values,\n",
    "    test_size=0.1, random_state=42\n",
    ")"
   ],
   "metadata": {
    "collapsed": false
   }
  },
  {
   "cell_type": "code",
   "execution_count": 116,
   "outputs": [
    {
     "name": "stdout",
     "output_type": "stream",
     "text": [
      "{'class_weight': 'balanced', 'max_depth': None, 'max_samples': None, 'min_samples_leaf': 1, 'min_samples_split': 5, 'n_estimators': 500}\n",
      "0.9963702359346642\n",
      "0.7040816326530612\n"
     ]
    }
   ],
   "source": [
    "params = {\n",
    "    'n_estimators': [200, 500, 1000],\n",
    "    'max_depth': [2, 5, 10, None],\n",
    "    'min_samples_split': [2, 5, 10],\n",
    "    'min_samples_leaf': [1, 2, 4],\n",
    "    'class_weight': ['balanced', None],\n",
    "    'max_samples': [0.3, 0.6, None]\n",
    "}\n",
    "grid = GridSearchCV(RandomForestClassifier(random_state=42), params, cv=5).fit(x_train2, y_train2)\n",
    "model = grid.best_estimator_\n",
    "\n",
    "print(grid.best_params_)\n",
    "print(accuracy_score(y_train2, model.predict(x_train2)))\n",
    "print(accuracy_score(y_test2, model.predict(x_test2)))"
   ],
   "metadata": {
    "collapsed": false
   }
  },
  {
   "cell_type": "markdown",
   "source": [
    "It looks like the gridsearch and the expanded feature pool was able to improve the performance of the classifier on the test set, by about 6%."
   ],
   "metadata": {
    "collapsed": false
   }
  }
 ],
 "metadata": {
  "kernelspec": {
   "display_name": "Python 3",
   "language": "python",
   "name": "python3"
  },
  "language_info": {
   "codemirror_mode": {
    "name": "ipython",
    "version": 2
   },
   "file_extension": ".py",
   "mimetype": "text/x-python",
   "name": "python",
   "nbconvert_exporter": "python",
   "pygments_lexer": "ipython2",
   "version": "2.7.6"
  }
 },
 "nbformat": 4,
 "nbformat_minor": 0
}
